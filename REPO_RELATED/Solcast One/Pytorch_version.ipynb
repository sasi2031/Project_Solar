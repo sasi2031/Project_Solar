{
 "cells": [
  {
   "cell_type": "code",
   "execution_count": 23,
   "metadata": {},
   "outputs": [
    {
     "data": {
      "text/plain": [
       "<torch._C.Generator at 0x191caaa5390>"
      ]
     },
     "execution_count": 23,
     "metadata": {},
     "output_type": "execute_result"
    }
   ],
   "source": [
    "import pandas as pd\n",
    "import numpy as np\n",
    "import random\n",
    "import torch\n",
    "import torch.nn as nn\n",
    "from sklearn.preprocessing import MinMaxScaler\n",
    "from torch.utils.data import DataLoader, TensorDataset\n",
    "\n",
    "# Set random seed for reproducibility\n",
    "seed_value = 42\n",
    "random.seed(seed_value)\n",
    "np.random.seed(seed_value)\n",
    "torch.manual_seed(seed_value)\n"
   ]
  },
  {
   "cell_type": "code",
   "execution_count": 24,
   "metadata": {},
   "outputs": [],
   "source": [
    "# Load your dataset\n",
    "data = pd.read_csv(r\"C:\\Users\\Sasi Kanth\\Desktop\\SolarPower\\SolcastData\\Data17_Filtered.csv\")\n",
    "\n",
    "# Retain the 'period_end' column for tracking timestamps\n",
    "timestamps = data['period_end'].values\n",
    "\n",
    "# Drop unnecessary columns (you can drop 'period' but retain 'period_end')\n",
    "data = data.drop(columns=['period'])\n",
    "\n",
    "# Separate the target column 'gti' and features\n",
    "target_column = 'gti'\n",
    "X_data = data.drop(columns=[target_column, 'period_end'])\n",
    "y_data = data[target_column]\n",
    "\n",
    "# Feature scaling for features and target\n",
    "scaler_X = MinMaxScaler()\n",
    "scaled_X = scaler_X.fit_transform(X_data)\n",
    "\n",
    "scaler_y = MinMaxScaler()\n",
    "scaled_y = scaler_y.fit_transform(y_data.values.reshape(-1, 1))\n"
   ]
  },
  {
   "cell_type": "code",
   "execution_count": 25,
   "metadata": {},
   "outputs": [],
   "source": [
    "# Create sequences and labels for LSTM\n",
    "def create_sequences(X, y, sequence_length):\n",
    "    sequences_X = []\n",
    "    sequences_y = []\n",
    "    for i in range(len(X) - sequence_length):\n",
    "        sequences_X.append(X[i:i + sequence_length])\n",
    "        sequences_y.append(y[i + sequence_length])\n",
    "    return np.array(sequences_X), np.array(sequences_y)\n",
    "\n",
    "sequence_length = 24  # Number of 5-min intervals (e.g., for 2 hours ahead)\n",
    "X, y = create_sequences(scaled_X, scaled_y, sequence_length)\n",
    "\n",
    "# Adjust the timestamps for the sequences (remove the first 'sequence_length' entries)\n",
    "timestamps = timestamps[sequence_length:]\n"
   ]
  },
  {
   "cell_type": "code",
   "execution_count": 4,
   "metadata": {},
   "outputs": [],
   "source": [
    "# Create sequences and labels for LSTM\n",
    "def create_sequences(X, y, sequence_length):\n",
    "    sequences_X = []\n",
    "    sequences_y = []\n",
    "    for i in range(len(X) - sequence_length):\n",
    "        sequences_X.append(X[i:i + sequence_length])\n",
    "        sequences_y.append(y[i + sequence_length])\n",
    "    return np.array(sequences_X), np.array(sequences_y)\n",
    "\n",
    "sequence_length = 24  # Number of 5-min intervals (e.g., for 2 hours ahead)\n",
    "X, y = create_sequences(scaled_X, scaled_y, sequence_length)\n",
    "\n",
    "# Adjust the timestamps for the sequences (remove the first 'sequence_length' entries)\n",
    "timestamps = timestamps[sequence_length:]\n"
   ]
  },
  {
   "cell_type": "code",
   "execution_count": 26,
   "metadata": {},
   "outputs": [],
   "source": [
    "# Split into training and testing datasets\n",
    "split = int(0.7 * len(X))\n",
    "X_train, X_test = X[:split], X[split:]\n",
    "y_train, y_test = y[:split], y[split:]\n",
    "\n",
    "# Convert data to PyTorch tensors\n",
    "X_train_tensor = torch.tensor(X_train, dtype=torch.float32)\n",
    "X_test_tensor = torch.tensor(X_test, dtype=torch.float32)\n",
    "y_train_tensor = torch.tensor(y_train, dtype=torch.float32)\n",
    "y_test_tensor = torch.tensor(y_test, dtype=torch.float32)\n",
    "\n",
    "# Create DataLoader for batching\n",
    "train_dataset = TensorDataset(X_train_tensor, y_train_tensor)\n",
    "test_dataset = TensorDataset(X_test_tensor, y_test_tensor)\n",
    "\n",
    "train_loader = DataLoader(train_dataset, batch_size=64, shuffle=True)\n",
    "test_loader = DataLoader(test_dataset, batch_size=64, shuffle=False)\n"
   ]
  },
  {
   "cell_type": "code",
   "execution_count": 33,
   "metadata": {},
   "outputs": [],
   "source": [
    "class LSTMModel(nn.Module):\n",
    "    def __init__(self, input_size, hidden_size1, hidden_size2, output_size):\n",
    "        super(LSTMModel, self).__init__()\n",
    "        self.lstm1 = nn.LSTM(input_size, hidden_size1, batch_first=True)\n",
    "        self.dropout1 = nn.Dropout(0.3)\n",
    "        self.lstm2 = nn.LSTM(hidden_size1, hidden_size2, batch_first=True)\n",
    "        self.dropout2 = nn.Dropout(0.3)\n",
    "        self.fc = nn.Linear(hidden_size2, output_size)\n",
    "    \n",
    "    def forward(self, x):\n",
    "        x, _ = self.lstm1(x)\n",
    "        x = self.dropout1(x)\n",
    "        x, _ = self.lstm2(x)\n",
    "        x = self.dropout2(x)\n",
    "        x = self.fc(x[:, -1, :])  # Output for the last timestep\n",
    "        return x\n"
   ]
  },
  {
   "cell_type": "code",
   "execution_count": 34,
   "metadata": {},
   "outputs": [],
   "source": [
    "input_size = X_train.shape[2]  # Number of features\n",
    "hidden_size1 = 128\n",
    "hidden_size2 = 64\n",
    "output_size = 1  # Predicting a single value 'gti'\n",
    "\n",
    "model = LSTMModel(input_size, hidden_size1, hidden_size2, output_size)\n"
   ]
  },
  {
   "cell_type": "code",
   "execution_count": 35,
   "metadata": {},
   "outputs": [
    {
     "name": "stdout",
     "output_type": "stream",
     "text": [
      "Epoch 1/20, Train Loss: 0.0015, Validation Loss: 0.0005\n",
      "Epoch 2/20, Train Loss: 0.0008, Validation Loss: 0.0006\n",
      "Epoch 3/20, Train Loss: 0.0007, Validation Loss: 0.0005\n",
      "Epoch 4/20, Train Loss: 0.0007, Validation Loss: 0.0005\n",
      "Epoch 5/20, Train Loss: 0.0007, Validation Loss: 0.0006\n",
      "Epoch 6/20, Train Loss: 0.0007, Validation Loss: 0.0005\n",
      "Epoch 7/20, Train Loss: 0.0007, Validation Loss: 0.0006\n",
      "Epoch 8/20, Train Loss: 0.0007, Validation Loss: 0.0005\n",
      "Epoch 9/20, Train Loss: 0.0007, Validation Loss: 0.0005\n",
      "Epoch 10/20, Train Loss: 0.0007, Validation Loss: 0.0005\n",
      "Epoch 11/20, Train Loss: 0.0007, Validation Loss: 0.0005\n",
      "Epoch 12/20, Train Loss: 0.0007, Validation Loss: 0.0006\n",
      "Epoch 13/20, Train Loss: 0.0007, Validation Loss: 0.0005\n",
      "Epoch 14/20, Train Loss: 0.0007, Validation Loss: 0.0005\n",
      "Epoch 15/20, Train Loss: 0.0007, Validation Loss: 0.0004\n",
      "Epoch 16/20, Train Loss: 0.0007, Validation Loss: 0.0005\n",
      "Epoch 17/20, Train Loss: 0.0007, Validation Loss: 0.0005\n",
      "Epoch 18/20, Train Loss: 0.0007, Validation Loss: 0.0005\n",
      "Epoch 19/20, Train Loss: 0.0007, Validation Loss: 0.0005\n",
      "Epoch 20/20, Train Loss: 0.0007, Validation Loss: 0.0005\n"
     ]
    }
   ],
   "source": [
    "# Loss and optimizer\n",
    "criterion = nn.MSELoss()\n",
    "optimizer = torch.optim.Adam(model.parameters(), lr=0.001)\n",
    "\n",
    "# Training loop\n",
    "num_epochs = 20\n",
    "for epoch in range(num_epochs):\n",
    "    model.train()\n",
    "    train_loss = 0.0\n",
    "    for X_batch, y_batch in train_loader:\n",
    "        optimizer.zero_grad()\n",
    "        outputs = model(X_batch)\n",
    "        loss = criterion(outputs, y_batch)\n",
    "        loss.backward()\n",
    "        optimizer.step()\n",
    "        train_loss += loss.item()\n",
    "    \n",
    "    train_loss /= len(train_loader)\n",
    "    \n",
    "    # Validation\n",
    "    model.eval()\n",
    "    val_loss = 0.0\n",
    "    with torch.no_grad():\n",
    "        for X_batch, y_batch in test_loader:\n",
    "            outputs = model(X_batch)\n",
    "            loss = criterion(outputs, y_batch)\n",
    "            val_loss += loss.item()\n",
    "    \n",
    "    val_loss /= len(test_loader)\n",
    "    \n",
    "    print(f\"Epoch {epoch+1}/{num_epochs}, Train Loss: {train_loss:.4f}, Validation Loss: {val_loss:.4f}\")\n"
   ]
  },
  {
   "cell_type": "code",
   "execution_count": 36,
   "metadata": {},
   "outputs": [],
   "source": [
    "model.eval()\n",
    "predictions = []\n",
    "with torch.no_grad():\n",
    "    for X_batch, _ in test_loader:\n",
    "        preds = model(X_batch)\n",
    "        predictions.append(preds.cpu().numpy())\n",
    "\n",
    "predictions = np.concatenate(predictions).reshape(-1, 1)\n",
    "\n",
    "# Rescale predictions back to original scale\n",
    "predictions_original = scaler_y.inverse_transform(predictions)\n",
    "y_test_original = scaler_y.inverse_transform(y_test)\n"
   ]
  },
  {
   "cell_type": "code",
   "execution_count": 38,
   "metadata": {},
   "outputs": [
    {
     "name": "stdout",
     "output_type": "stream",
     "text": [
      "Mean Squared Error (MSE): 661.9749\n",
      "Mean Absolute Error (MAE): 12.1622\n",
      "Mean Absolute Percentage Error (MAPE): 13.03%\n",
      "\n",
      "Maximum Error: 663.9030\n",
      "At time: 2024-03-06 11:25:00+04:00\n",
      "Actual value: 925.0000, Predicted value: 261.0970\n",
      "\n",
      "Minimum Error: 0.0000\n",
      "At time: 2020-11-29 07:40:00+04:00\n",
      "Actual value: 522.0000, Predicted value: 522.0000\n"
     ]
    }
   ],
   "source": [
    "from sklearn.metrics import mean_squared_error, mean_absolute_error\n",
    "import numpy as np\n",
    "\n",
    "# After making predictions\n",
    "predictions = np.concatenate(predictions).reshape(-1, 1)  # Combine batches into one array\n",
    "\n",
    "# Rescale predictions and actual values back to original scale\n",
    "predictions_original = scaler_y.inverse_transform(predictions)\n",
    "y_test_original = scaler_y.inverse_transform(y_test.reshape(-1, 1))\n",
    "\n",
    "\n",
    "# Mean Squared Error (MSE)\n",
    "mse = mean_squared_error(y_test_original, predictions_original)\n",
    "\n",
    "# Mean Absolute Error (MAE)\n",
    "mae = mean_absolute_error(y_test_original, predictions_original)\n",
    "\n",
    "# Filter out zero actual values to avoid division by zero in MAPE\n",
    "non_zero_indices = y_test_original != 0\n",
    "\n",
    "# Mean Absolute Percentage Error (MAPE) for non-zero values\n",
    "mape = np.mean(np.abs((y_test_original[non_zero_indices] - predictions_original[non_zero_indices]) / y_test_original[non_zero_indices])) * 100\n",
    "\n",
    "# Calculate the absolute errors\n",
    "errors = np.abs(y_test_original - predictions_original)\n",
    "\n",
    "# Find the maximum error\n",
    "max_error = np.max(errors)\n",
    "max_error_index = np.argmax(errors)\n",
    "max_error_value_actual = y_test_original[max_error_index]\n",
    "max_error_value_predicted = predictions_original[max_error_index]\n",
    "max_error_timestamp = timestamps_test[max_error_index]\n",
    "\n",
    "# Find the minimum error\n",
    "min_error = np.min(errors)\n",
    "min_error_index = np.argmin(errors)\n",
    "min_error_value_actual = y_test_original[min_error_index]\n",
    "min_error_value_predicted = predictions_original[min_error_index]\n",
    "min_error_timestamp = timestamps_test[min_error_index]\n",
    "\n",
    "# Print the results\n",
    "print(f\"Mean Squared Error (MSE): {mse:.4f}\")\n",
    "print(f\"Mean Absolute Error (MAE): {mae:.4f}\")\n",
    "print(f\"Mean Absolute Percentage Error (MAPE): {mape:.2f}%\")\n",
    "\n",
    "print(f\"\\nMaximum Error: {max_error:.4f}\")\n",
    "print(f\"At time: {max_error_timestamp}\")\n",
    "print(f\"Actual value: {max_error_value_actual[0]:.4f}, Predicted value: {max_error_value_predicted[0]:.4f}\")\n",
    "\n",
    "print(f\"\\nMinimum Error: {min_error:.4f}\")\n",
    "print(f\"At time: {min_error_timestamp}\")\n",
    "print(f\"Actual value: {min_error_value_actual[0]:.4f}, Predicted value: {min_error_value_predicted[0]:.4f}\")\n"
   ]
  },
  {
   "cell_type": "code",
   "execution_count": null,
   "metadata": {},
   "outputs": [],
   "source": []
  }
 ],
 "metadata": {
  "kernelspec": {
   "display_name": "rengoku",
   "language": "python",
   "name": "python3"
  },
  "language_info": {
   "codemirror_mode": {
    "name": "ipython",
    "version": 3
   },
   "file_extension": ".py",
   "mimetype": "text/x-python",
   "name": "python",
   "nbconvert_exporter": "python",
   "pygments_lexer": "ipython3",
   "version": "3.12.4"
  }
 },
 "nbformat": 4,
 "nbformat_minor": 2
}
